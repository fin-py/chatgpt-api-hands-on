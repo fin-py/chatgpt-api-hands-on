{
 "cells": [
  {
   "attachments": {},
   "cell_type": "markdown",
   "metadata": {},
   "source": [
    "# Chains\n",
    "\n",
    "chainはLLMとコンポーネントを組み合わせたアプリケーションを作成します。たとえば、入力されたデータをもとにテンプレートからフォーマットした結果をLLMに渡すchainを作成したります。"
   ]
  },
  {
   "attachments": {},
   "cell_type": "markdown",
   "metadata": {},
   "source": [
    "`PromptTemplate` で生成したpromptとOpenAIのLLMを組み合わせています。"
   ]
  },
  {
   "cell_type": "code",
   "execution_count": 3,
   "metadata": {},
   "outputs": [],
   "source": [
    "from langchain.prompts import PromptTemplate\n",
    "from langchain.llms import OpenAI\n",
    "from langchain.chains import LLMChain\n",
    "\n",
    "llm = OpenAI(temperature=0.9)\n",
    "prompt = PromptTemplate(\n",
    "    input_variables=[\"gender\"],\n",
    "    template=\"健やかに育ってくれるような {gender} の名前を考えてください?\",\n",
    ")\n",
    "chain = LLMChain(llm=llm, prompt=prompt)\n",
    "# Run the chain only specifying the input variable.\n",
    "print(chain.run(\"男の子\"))"
   ]
  },
  {
   "attachments": {},
   "cell_type": "markdown",
   "metadata": {},
   "source": [
    "次のコードでは `HumanMessagePromptTemplate` を使っています。"
   ]
  },
  {
   "cell_type": "code",
   "execution_count": 11,
   "metadata": {},
   "outputs": [
    {
     "name": "stdout",
     "output_type": "stream",
     "text": [
      "1. 優斗 (ゆうと)\n",
      "2. 大翔 (だいしょう)\n",
      "3. 悠真 (ゆうま)\n",
      "4. 颯太 (そうた)\n",
      "5. 翼 (つばさ)\n",
      "6. 拓海 (たくみ)\n",
      "7. 健太 (けんた)\n",
      "8. 祐太 (ゆうた)\n",
      "9. 陽斗 (はると)\n",
      "10. 涼太 (りょうた)\n"
     ]
    }
   ],
   "source": [
    "from langchain.chat_models import ChatOpenAI\n",
    "from langchain.prompts.chat import (\n",
    "    ChatPromptTemplate,\n",
    "    HumanMessagePromptTemplate,\n",
    ")\n",
    "\n",
    "human_message_prompt = HumanMessagePromptTemplate(\n",
    "        prompt=PromptTemplate(\n",
    "            template=\"健やかに育ってくれるような {gender} の名前を考えてください?\",\n",
    "            input_variables=[\"gender\"],\n",
    "        )\n",
    "    )\n",
    "chat_prompt_template = ChatPromptTemplate.from_messages([human_message_prompt])\n",
    "chat = ChatOpenAI(temperature=0.9)\n",
    "chain = LLMChain(llm=chat, prompt=chat_prompt_template)\n",
    "print(chain.run(\"男の子\"))"
   ]
  },
  {
   "attachments": {},
   "cell_type": "markdown",
   "metadata": {},
   "source": [
    "`LLMChain` のインスタンスは実行（ `__call__` ）でき、引数 `inputs` に入力を渡せます。"
   ]
  },
  {
   "cell_type": "code",
   "execution_count": 7,
   "metadata": {},
   "outputs": [
    {
     "data": {
      "text/plain": [
       "{'season': '春',\n",
       " 'text': '春の風や\\n馬車に揺られ\\n花見かな\\n\\n春の雨や\\n小川のせせらぎ\\n心癒され\\n\\n春の夜や\\n満月が照らす\\n桜の花\\n\\n春の光や\\n山々に映える\\n新緑の葉\\n\\n春の風や\\n鳥たちが舞う\\n空の青'}"
      ]
     },
     "execution_count": 7,
     "metadata": {},
     "output_type": "execute_result"
    }
   ],
   "source": [
    "chat = ChatOpenAI(temperature=0)\n",
    "prompt_template = \"{season} の俳句を読んでください\"\n",
    "llm_chain = LLMChain(\n",
    "    llm=chat,\n",
    "    prompt=PromptTemplate.from_template(prompt_template)\n",
    ")\n",
    "llm_chain(inputs={\"season\": \"春\"})"
   ]
  },
  {
   "attachments": {},
   "cell_type": "markdown",
   "metadata": {},
   "source": [
    "次のコードでは出力のみを返します。"
   ]
  },
  {
   "cell_type": "code",
   "execution_count": 8,
   "metadata": {},
   "outputs": [
    {
     "data": {
      "text/plain": [
       "{'text': '田んぼに\\n黄色い穂が\\n揺れている\\n\\n(Corny haiku)\\nIn the rice field,\\nYellow ears of corn\\nAre swaying.'}"
      ]
     },
     "execution_count": 8,
     "metadata": {},
     "output_type": "execute_result"
    }
   ],
   "source": [
    "llm_chain(\"corny\", return_only_outputs=True)"
   ]
  },
  {
   "attachments": {},
   "cell_type": "markdown",
   "metadata": {},
   "source": [
    "複数の入力がある場合には `run` メソッドの引数に辞書を渡します。"
   ]
  },
  {
   "cell_type": "code",
   "execution_count": 12,
   "metadata": {},
   "outputs": [
    {
     "data": {
      "text/plain": [
       "'紅葉の\\n道を行く旅\\n秋の風\\n\\n秋の旅\\n山々の紅葉\\n美しき\\n\\n秋の夜\\n旅先の宿で\\n月を仰ぐ\\n\\n旅先に\\n秋の風が吹く\\n草の香り\\n\\n秋の旅\\n温泉に浸かり\\n心癒す\\n\\n旅先で\\n秋の味覚を\\n堪能する'"
      ]
     },
     "execution_count": 12,
     "metadata": {},
     "output_type": "execute_result"
    }
   ],
   "source": [
    "chat = ChatOpenAI(temperature=0)\n",
    "prompt_template = \"{theme} をテーマに {season} の俳句を読んでください\"\n",
    "llm_chain = LLMChain(\n",
    "    llm=chat,\n",
    "    prompt=PromptTemplate.from_template(prompt_template)\n",
    ")\n",
    "llm_chain.run({\"theme\": \"旅行\", \"season\": \"秋\"})"
   ]
  }
 ],
 "metadata": {
  "kernelspec": {
   "display_name": ".venv",
   "language": "python",
   "name": "python3"
  },
  "language_info": {
   "codemirror_mode": {
    "name": "ipython",
    "version": 3
   },
   "file_extension": ".py",
   "mimetype": "text/x-python",
   "name": "python",
   "nbconvert_exporter": "python",
   "pygments_lexer": "ipython3",
   "version": "3.10.10"
  },
  "orig_nbformat": 4
 },
 "nbformat": 4,
 "nbformat_minor": 2
}
